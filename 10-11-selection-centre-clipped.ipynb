{
 "cells": [
  {
   "cell_type": "code",
   "execution_count": null,
   "metadata": {},
   "outputs": [],
   "source": [
    "%matplotlib widget\n",
    "import warnings\n",
    "import inspect\n",
    "import matplotlib.pyplot as plt\n",
    "import IPython.display\n",
    "import numpy as np\n",
    "from cued_sf2_lab.familiarisation import load_mat_img, plot_image\n",
    "from cued_sf2_lab.laplacian_pyramid import quantise\n",
    "from compression_schemes.dwt_funcs import *\n"
   ]
  },
  {
   "cell_type": "markdown",
   "metadata": {},
   "source": [
    "# 10. Selection of preferred energy compaction options\n",
    "\n",
    "The remainder of this project will concentrate on developing the rest of\n",
    "an image compression system, based on a few of the filtering /\n",
    "transformation schemes studied so far.\n",
    "\n",
    "Since the subsequent processes are non-linear, we cannot expect to be able to\n",
    "choose precisely the right front-end at this stage, so we adopt the pragmatic\n",
    "approach of picking about three good candidates and trust that one of these\n",
    "will lead to a near-optimum solution in the end. Remember that up to this point we have only been using entropy to give us an _estimate_ of the number of bits required, the accuracy of which is affected by subsequent stages.\n",
    "\n",
    "At this stage it is worth trying your schemes with all three\n",
    "test images, (`Lighthouse`, `Bridge`, and `Flamingo`). You will find `Bridge` more difficult to compress than the other two. You may also want to introduce other images of your own."
   ]
  },
  {
   "cell_type": "code",
   "execution_count": null,
   "metadata": {},
   "outputs": [],
   "source": [
    "lighthouse, _ = load_mat_img(img='lighthouse.mat', img_info='X')\n",
    "bridge, _ = load_mat_img(img='bridge.mat', img_info='X')\n",
    "flamingo, _ = load_mat_img(img='flamingo.mat', img_info='X')"
   ]
  },
  {
   "cell_type": "code",
   "execution_count": null,
   "metadata": {},
   "outputs": [],
   "source": [
    "fig, axs = plt.subplots(1, 3)\n",
    "plot_image(lighthouse, ax=axs[0])\n",
    "plot_image(bridge, ax=axs[1])\n",
    "plot_image(flamingo, ax=axs[2])"
   ]
  },
  {
   "cell_type": "markdown",
   "metadata": {},
   "source": [
    "Write `.py` files to implement each of your\n",
    "chosen schemes, so that you do not have to remember long sequences\n",
    "of commands each time you run them. You can easily edit the M-files to introduce different options\n",
    "later.  Using plenty of comments in these files will help when you want to change them."
   ]
  },
  {
   "cell_type": "code",
   "execution_count": null,
   "metadata": {},
   "outputs": [],
   "source": [
    "Xl = zero_mean(lighthouse)\n",
    "Xb = zero_mean(bridge)\n",
    "Xf = zero_mean(flamingo)"
   ]
  },
  {
   "cell_type": "code",
   "execution_count": null,
   "metadata": {},
   "outputs": [],
   "source": [
    "Yl = nlevdwt(Xl, 5)\n",
    "Yb = nlevdwt(Xb, 5)\n",
    "Yf = nlevdwt(Xf, 5)"
   ]
  },
  {
   "cell_type": "code",
   "execution_count": null,
   "metadata": {},
   "outputs": [],
   "source": [
    "scaled_l, Ylq, dwtent_l, Z_l = diff_step_sizes(Xl, 256, 5)\n",
    "scaled_b, Ybq, dwtent_b, Z_b = diff_step_sizes(Xb, 256, 5)\n",
    "scaled_f, Yfq, dwtent_f, Z_f = diff_step_sizes(Xf, 256, 5)"
   ]
  },
  {
   "cell_type": "code",
   "execution_count": null,
   "metadata": {},
   "outputs": [],
   "source": [
    "fig, axs = plt.subplots(1, 3)\n",
    "plot_image(Z_l, ax=axs[0])\n",
    "plot_image(Z_b, ax=axs[1])\n",
    "plot_image(Z_f, ax=axs[2])"
   ]
  },
  {
   "cell_type": "code",
   "execution_count": null,
   "metadata": {},
   "outputs": [],
   "source": [
    "ratio_l = compression_ratio(Xl, Ylq, dwtent_l)\n",
    "ratio_b = compression_ratio(Xb, Ybq, dwtent_b)\n",
    "ratio_f = compression_ratio(Xf, Yfq, dwtent_f)\n",
    "print(ratio_l, ratio_b, ratio_f)"
   ]
  },
  {
   "cell_type": "markdown",
   "metadata": {},
   "source": [
    "# 11. Centre-clipped linear quantisers\n",
    "\n",
    "The quantisers that you have used so far have all been uniform quantisers\n",
    "(i.e.  all steps have been the same size).  However the probability\n",
    "distributions of the intensities of the bandpass sub-images from the energy\n",
    "compaction front-ends are usually highly peaked at zero.  The amount of data\n",
    "compression depends heavily on the proportion of data samples which are\n",
    "quantised to zero; if this approaches unity then high compression is\n",
    "achieved.\n",
    "\n",
    "Hence it is often found desirable to make the quantiser non-linear\n",
    "so that more samples tend to be quantised to zero.  A simple way\n",
    "to achieve this is to widen the step-size of the \"zero\" step.  In\n",
    "a uniform quantiser, the \"zero\" step is normally centred on zero,\n",
    "with rises to the next level at $\\pm$ half of the step-size on\n",
    "each side of zero. `quantise` allows a third argument `rise1` to be specified, which is\n",
    "the point at which the first rise occurs on each side of the zero step.  A\n",
    "value of `rise1` = `step/2` is the default, but `rise1` = $\\left\\{0.5, 1, 1.5\\right\\}\\times$ `step` are worth investigating. To show what effect these have, try:\n",
    "\n",
    "```python\n",
    "x = np.arange(-100, 100+1)\n",
    "y = quantise(x, 20, rise1)\n",
    "fig, ax = plt.subplots()\n",
    "ax.plot(x, y)\n",
    "ax.grid()\n",
    "```"
   ]
  },
  {
   "cell_type": "code",
   "execution_count": null,
   "metadata": {},
   "outputs": [],
   "source": [
    "# your code here\n",
    "\n",
    "import numpy as np\n",
    "\n",
    "import matplotlib.pyplot as plt\n",
    "\n",
    " \n",
    "\n",
    "x = np.arange(-100, 101)\n",
    "\n",
    "step = 20\n",
    "\n",
    " \n",
    "\n",
    "rise1_values = [0.5, 1.0, 1.5]\n",
    "\n",
    "colors = ['r', 'g', 'b']\n",
    "\n",
    "labels = [f\"rise1 = {r} × step\" for r in rise1_values]\n",
    "\n",
    " \n",
    "\n",
    "fig, ax = plt.subplots()\n",
    "\n",
    " \n",
    "\n",
    "for rise1, color, label in zip(rise1_values, colors, labels):\n",
    "\n",
    "    y = quantise(x, step, rise1 * step)\n",
    "\n",
    "    ax.plot(x, y, label=label, color=color)\n",
    "\n",
    " \n",
    "\n",
    "ax.set_title(\"Effect of Varying rise1 on Quantiser Output\")\n",
    "\n",
    "ax.set_xlabel(\"Input x\")\n",
    "\n",
    "ax.set_ylabel(\"Quantised y\")\n",
    "\n",
    "ax.grid(True)\n",
    "\n",
    "ax.legend()\n",
    "\n",
    "plt.show()"
   ]
  },
  {
   "cell_type": "markdown",
   "metadata": {},
   "source": [
    "A wider zero step means that more samples will be coded as zero and so the\n",
    "entropy of the data will be reduced.  The use of a wide zero step is\n",
    "beneficial if it results in a better entropy vs. error tradeoff than a uniform\n",
    "quantiser.\n",
    "\n",
    "<div class=\"alert alert-block alert-danger\">\n",
    "\n",
    "For each of your preferred front-end\n",
    "schemes, investigate the effects of varying the first rise of the\n",
    "quantiser.  To do this, you could plot how the quantising error\n",
    "varies as a function of the number of bits for a few different ratios of\n",
    "`rise1` to step-size, and hence find the ratio which gives the\n",
    "best compression for a given rms error. </div>"
   ]
  },
  {
   "cell_type": "code",
   "execution_count": null,
   "metadata": {},
   "outputs": [],
   "source": [
    "# You may wish to work in standalone python files (instead of notebooks) at this point!"
   ]
  },
  {
   "cell_type": "markdown",
   "metadata": {},
   "source": [
    "Most current image compression standards use quantisers with a\n",
    "double-width centre step (`rise1 = step`). Do not spend too much time\n",
    "on this as the compression gains are likely to be quite small.\n",
    "\n",
    "<div class=\"alert alert-block alert-danger\">\n",
    "\n",
    "\n",
    "Discuss whether your results indicate that `rise1 = step`\n",
    "is a reasonable compromise if all quantisers are to be similar.\n",
    "</div>"
   ]
  },
  {
   "cell_type": "markdown",
   "metadata": {},
   "source": [
    "A final strategy which you can consider is to completely suppress some\n",
    "sub-images or DCT coefficients.  This is equivalent to increasing `rise1`\n",
    "to a very large value for these components.  In the sub-images / coefficients\n",
    "which represent only the highest horizontal and vertical frequency components\n",
    "combined, the effects of suppression can be almost unnoticable and yet\n",
    "a useful saving in number of bits can be achieved.\n",
    "\n",
    "<div class=\"alert alert-block alert-danger\">\n",
    "\n",
    "Investigate any additional gains which can be achieved with suppression\n",
    "of some sub-images / coefficients.\n",
    "</div>"
   ]
  }
 ],
 "metadata": {
  "celltoolbar": "Tags",
  "kernelspec": {
   "display_name": "Python 3",
   "language": "python",
   "name": "python3"
  },
  "language_info": {
   "codemirror_mode": {
    "name": "ipython",
    "version": 3
   },
   "file_extension": ".py",
   "mimetype": "text/x-python",
   "name": "python",
   "nbconvert_exporter": "python",
   "pygments_lexer": "ipython3",
   "version": "3.12.1"
  }
 },
 "nbformat": 4,
 "nbformat_minor": 4
}
