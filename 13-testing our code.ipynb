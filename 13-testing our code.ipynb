{
 "cells": [
  {
   "cell_type": "markdown",
   "id": "0",
   "metadata": {},
   "source": [
    "Our own image compression schemes!"
   ]
  },
  {
   "cell_type": "code",
   "execution_count": null,
   "id": "1",
   "metadata": {},
   "outputs": [],
   "source": [
    "%matplotlib widget\n",
    "import numpy as np\n",
    "import matplotlib.pyplot as plt\n",
    "import IPython.display\n",
    "\n",
    "from cued_sf2_lab.familiarisation import load_mat_img, plot_image\n",
    "from compression_schemes.dwt_funcs import *\n",
    "from cued_sf2_lab.familiarisation import load_mat_img, plot_image\n",
    "from compression_schemes.subjective_quality import ssim\n",
    "from cued_sf2_lab.jpeg_dwt import *"
   ]
  },
  {
   "cell_type": "code",
   "execution_count": null,
   "id": "2",
   "metadata": {},
   "outputs": [],
   "source": [
    "X, _ = load_mat_img(img='flamingo.mat', img_info='X')\n",
    "X = X-128.0\n",
    "opt_step, scaled, _, _, _ = diff_step_sizes(X, 256, n=5, target_rms = 10, rise_ratio=1.0)\n",
    "print(f\"optimal step size {opt_step}\")\n",
    "vlc, dhufftab, totalbits = jpegenc_dwt(X, 5,dcbits=9, steps = scaled, rise_ratio=1.0, opthuff=True)\n",
    "print(totalbits)"
   ]
  },
  {
   "cell_type": "code",
   "execution_count": null,
   "id": "3",
   "metadata": {},
   "outputs": [],
   "source": [
    "Z = jpegdec_dwt(vlc, 5, steps=scaled, rise_ratio = 1.0, hufftab = dhufftab, dcbits = 9)\n",
    "fig, (ax1, ax2) = plt.subplots(1, 2, figsize=(8,4))\n",
    "plot_image(X, ax=ax1)\n",
    "ax1.set(title=\"X\")\n",
    "plot_image(Z, ax=ax2)\n",
    "ax2.set(title=\"Z\")\n",
    "print(ssim(X, Z))"
   ]
  },
  {
   "cell_type": "code",
   "execution_count": null,
   "id": "4",
   "metadata": {},
   "outputs": [],
   "source": [
    "import numpy as np\n",
    "import matplotlib.pyplot as plt\n",
    "\n",
    "# List of image filenames\n",
    "image_list = ['flamingo.mat', 'lighthouse.mat', 'bridge.mat']  \n",
    "rms_targets = np.linspace(6, 14, 10)\n",
    "\n",
    "# Start plotting\n",
    "plt.figure()\n",
    "\n",
    "for img_name in image_list:\n",
    "    # Load and preprocess\n",
    "    X, _ = load_mat_img(img=img_name, img_info='X')\n",
    "    X = X - 128.0\n",
    "\n",
    "    bits = []\n",
    "    rms_errors = []\n",
    "    #estimates = []\n",
    "\n",
    "    for target_rms in rms_targets:\n",
    "        opt_step, scaled, _, _, _ = diff_step_sizes(X, 256, n=5, target_rms=target_rms, rise_ratio=1.0)\n",
    "        #encoding\n",
    "        vlc, dhufftab, totalbits = jpegenc_dwt(X, 5, dcbits=9, steps=scaled, rise_ratio=1.0, log=False, opthuff=True)\n",
    "        bits.append(totalbits)\n",
    "        #comparing to estimate\n",
    "        #Y = nlevdwt(X, n=5)\n",
    "        #Yq, dwtent= quantdwt(Y, scaled, rise_ratio=1.0)\n",
    "        #Yq = np.round(Yq).astype(int)\n",
    "        #_, estimated_bits = compression_ratio_for_DWT(X, Yq, dwtent)\n",
    "        #estimates.append(int(round(estimated_bits)))\n",
    "        #decoding\n",
    "        Z = jpegdec_dwt(vlc, 5, steps=scaled, rise_ratio = 1.0, hufftab = dhufftab, dcbits = 9, log=False)\n",
    "        actual_rms = np.std(X-Z)\n",
    "        rms_errors.append(actual_rms)\n",
    "        print(f\"actual rms:{actual_rms},target rms: {target_rms}\")\n",
    "        #print(f\"actual no. bits {totalbits}, estimated no.bits {estimated_bits:.0f}\")\n",
    "    # Plot curve for this image\n",
    "    plt.plot(rms_errors, bits, 'o-', label=img_name.replace('.mat', ''))\n",
    "    #plt.plot(rms_errors, estimates, '--', label = f\"{img_name.replace('.mat', '')} (estimated bits)\")\n",
    "# Horizontal line at 5 kB\n",
    "plt.axhline(y=40960, color='red', linestyle='--', label='5 kB = 40960 bits')\n",
    "\n",
    "# Finalize plot\n",
    "plt.xlabel('RMS error')\n",
    "plt.ylabel('Total bits')\n",
    "plt.title('Rate-Distortion Curve (DWT Compression)')\n",
    "plt.grid(True)\n",
    "plt.legend()\n",
    "plt.show()\n"
   ]
  },
  {
   "cell_type": "markdown",
   "id": "5",
   "metadata": {},
   "source": [
    "Testing an LBT scheme!"
   ]
  },
  {
   "cell_type": "code",
   "execution_count": null,
   "id": "6",
   "metadata": {},
   "outputs": [],
   "source": []
  }
 ],
 "metadata": {
  "kernelspec": {
   "display_name": "Python 3",
   "language": "python",
   "name": "python3"
  },
  "language_info": {
   "codemirror_mode": {
    "name": "ipython",
    "version": 3
   },
   "file_extension": ".py",
   "mimetype": "text/x-python",
   "name": "python",
   "nbconvert_exporter": "python",
   "pygments_lexer": "ipython3",
   "version": "3.12.1"
  }
 },
 "nbformat": 4,
 "nbformat_minor": 5
}
