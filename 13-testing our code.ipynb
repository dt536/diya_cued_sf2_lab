{
 "cells": [
  {
   "cell_type": "markdown",
   "id": "0",
   "metadata": {},
   "source": [
    "Our own image compression schemes!"
   ]
  },
  {
   "cell_type": "code",
   "execution_count": null,
   "id": "1",
   "metadata": {},
   "outputs": [],
   "source": [
    "import numpy as np\n",
    "import matplotlib.pyplot as plt\n",
    "import IPython.display\n",
    "\n",
    "from cued_sf2_lab.familiarisation import load_mat_img, plot_image\n",
    "from compression_schemes.dwt_funcs import *\n",
    "from cued_sf2_lab.familiarisation import load_mat_img, plot_image\n",
    "from compression_schemes.subjective_quality import ssim"
   ]
  },
  {
   "cell_type": "code",
   "execution_count": null,
   "id": "2",
   "metadata": {},
   "outputs": [],
   "source": [
    "lighthouse, _ = load_mat_img(img='lighthouse.mat', img_info='X')\n",
    "Xl = zero_mean(lighthouse)\n",
    "Yl = nlevdwt(Xl, 3)\n",
    "scaled, Yq, dwtent, Zl = diff_step_sizes(Xl, 256, 3)"
   ]
  },
  {
   "cell_type": "code",
   "execution_count": null,
   "id": "3",
   "metadata": {},
   "outputs": [],
   "source": [
    "fig, (ax1, ax2)= plt.subplots(1, 2, figsize=(8, 4))\n",
    "plot_image(Zl, ax=ax1)\n",
    "ax1.set(title=\"reconstructed Z\")\n",
    "plot_image(Xl, ax=ax2)\n",
    "ax2.set(title=\"original image\")\n",
    "struct_sim = ssim(Xl, Zl)\n",
    "print(struct_sim)\n"
   ]
  }
 ],
 "metadata": {
  "kernelspec": {
   "display_name": "Python 3",
   "language": "python",
   "name": "python3"
  },
  "language_info": {
   "codemirror_mode": {
    "name": "ipython",
    "version": 3
   },
   "file_extension": ".py",
   "mimetype": "text/x-python",
   "name": "python",
   "nbconvert_exporter": "python",
   "pygments_lexer": "ipython3",
   "version": "3.12.1"
  }
 },
 "nbformat": 4,
 "nbformat_minor": 5
}
