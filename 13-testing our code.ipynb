{
 "cells": [
  {
   "cell_type": "markdown",
   "id": "0",
   "metadata": {},
   "source": [
    "Our own image compression schemes!"
   ]
  },
  {
   "cell_type": "code",
   "execution_count": null,
   "id": "1",
   "metadata": {},
   "outputs": [],
   "source": [
    "import numpy as np\n",
    "import matplotlib.pyplot as plt\n",
    "import IPython.display\n",
    "\n",
    "from cued_sf2_lab.familiarisation import load_mat_img, plot_image\n",
    "from compression_schemes.dwt_funcs import *\n",
    "from cued_sf2_lab.familiarisation import load_mat_img, plot_image\n",
    "from compression_schemes.subjective_quality import ssim\n",
    "from cued_sf2_lab.jpeg_dwt import *"
   ]
  },
  {
   "cell_type": "code",
   "execution_count": null,
   "id": "2",
   "metadata": {},
   "outputs": [],
   "source": [
    "X, _ = load_mat_img(img='flamingo.mat', img_info='X')\n",
    "X = X-128.0\n",
    "vlc, dhufftab, totalbits = jpegenc_dwt(X, 3,dcbits=9, target_rms=12.5, k=1.0, opthuff=True)\n",
    "print(totalbits)"
   ]
  },
  {
   "cell_type": "code",
   "execution_count": null,
   "id": "3",
   "metadata": {},
   "outputs": [],
   "source": [
    "Z = jpegdec_dwt(vlc, 3, hufftab = dhufftab, dcbits = 9)\n",
    "fig, (ax1, ax2) = plt.subplots(1, 2, figsize=(8,4))\n",
    "plot_image(X, ax=ax1)\n",
    "ax1.set(title=\"X\")\n",
    "plot_image(Z, ax=ax2)\n",
    "ax2.set(title=\"Z\")\n",
    "print(ssim(X, Z))"
   ]
  }
 ],
 "metadata": {
  "kernelspec": {
   "display_name": "Python 3",
   "language": "python",
   "name": "python3"
  },
  "language_info": {
   "codemirror_mode": {
    "name": "ipython",
    "version": 3
   },
   "file_extension": ".py",
   "mimetype": "text/x-python",
   "name": "python",
   "nbconvert_exporter": "python",
   "pygments_lexer": "ipython3",
   "version": "3.12.1"
  }
 },
 "nbformat": 4,
 "nbformat_minor": 5
}
